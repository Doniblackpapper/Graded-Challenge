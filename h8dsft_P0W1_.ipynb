{
  "nbformat": 4,
  "nbformat_minor": 0,
  "metadata": {
    "colab": {
      "name": "h8dsft_P0W1 .ipynb",
      "provenance": []
    },
    "kernelspec": {
      "name": "python3",
      "display_name": "Python 3"
    },
    "language_info": {
      "name": "python"
    }
  },
  "cells": [
    {
      "cell_type": "markdown",
      "metadata": {
        "id": "3-iAktcfjMiu"
      },
      "source": [
        "'''#Perkenalan\n",
        "Nama : Doni Siahaan\n",
        "\n",
        "Tujuan dataset ini dibuat untuk mengetahui identitas dan objektif yang ingin dicapai :\n",
        "\n",
        "-ada berapa jumlah pokemon terkuat?\n",
        "\n",
        "-ada berapa jumlah pokemon terlemah?\n",
        "\n",
        "-ada berapa jumlah pokemon tipe legendary dan apa berapa banyak perbedaan dengan tipe common/biasa?\n"
      ]
    },
    {
      "cell_type": "markdown",
      "metadata": {
        "id": "5AdQXi-mgxQ3"
      },
      "source": [
        "#Library\n",
        "---\n",
        "\n"
      ]
    },
    {
      "cell_type": "code",
      "metadata": {
        "id": "1QQ23jtBgleo"
      },
      "source": [
        "#import library\n",
        "import pandas as pd\n",
        "import numpy as np\n",
        "import matplotlib.pyplot as plt\n",
        "\n",
        "import seaborn as sns\n",
        "%matplotlib inline\n",
        "\n",
        "sns.set(context='talk', palette='hls')"
      ],
      "execution_count": 114,
      "outputs": []
    },
    {
      "cell_type": "markdown",
      "metadata": {
        "id": "N6gyZyKHkG5_"
      },
      "source": [
        "#Data Loading"
      ]
    },
    {
      "cell_type": "code",
      "metadata": {
        "colab": {
          "base_uri": "https://localhost:8080/",
          "height": 0
        },
        "id": "lRJzBCAEkVYL",
        "outputId": "3dfdd889-386a-4601-b25d-bebf567b4d0a"
      },
      "source": [
        "df=pd.read_csv('/content/Pokemon.csv')\n",
        "df.head()"
      ],
      "execution_count": 85,
      "outputs": [
        {
          "output_type": "execute_result",
          "data": {
            "text/html": [
              "<div>\n",
              "<style scoped>\n",
              "    .dataframe tbody tr th:only-of-type {\n",
              "        vertical-align: middle;\n",
              "    }\n",
              "\n",
              "    .dataframe tbody tr th {\n",
              "        vertical-align: top;\n",
              "    }\n",
              "\n",
              "    .dataframe thead th {\n",
              "        text-align: right;\n",
              "    }\n",
              "</style>\n",
              "<table border=\"1\" class=\"dataframe\">\n",
              "  <thead>\n",
              "    <tr style=\"text-align: right;\">\n",
              "      <th></th>\n",
              "      <th>#</th>\n",
              "      <th>Name</th>\n",
              "      <th>Type 1</th>\n",
              "      <th>Type 2</th>\n",
              "      <th>Total</th>\n",
              "      <th>HP</th>\n",
              "      <th>Attack</th>\n",
              "      <th>Defense</th>\n",
              "      <th>Sp. Atk</th>\n",
              "      <th>Sp. Def</th>\n",
              "      <th>Speed</th>\n",
              "      <th>Generation</th>\n",
              "      <th>Legendary</th>\n",
              "    </tr>\n",
              "  </thead>\n",
              "  <tbody>\n",
              "    <tr>\n",
              "      <th>0</th>\n",
              "      <td>1</td>\n",
              "      <td>Bulbasaur</td>\n",
              "      <td>Grass</td>\n",
              "      <td>Poison</td>\n",
              "      <td>318</td>\n",
              "      <td>45</td>\n",
              "      <td>49</td>\n",
              "      <td>49</td>\n",
              "      <td>65</td>\n",
              "      <td>65</td>\n",
              "      <td>45</td>\n",
              "      <td>1</td>\n",
              "      <td>False</td>\n",
              "    </tr>\n",
              "    <tr>\n",
              "      <th>1</th>\n",
              "      <td>2</td>\n",
              "      <td>Ivysaur</td>\n",
              "      <td>Grass</td>\n",
              "      <td>Poison</td>\n",
              "      <td>405</td>\n",
              "      <td>60</td>\n",
              "      <td>62</td>\n",
              "      <td>63</td>\n",
              "      <td>80</td>\n",
              "      <td>80</td>\n",
              "      <td>60</td>\n",
              "      <td>1</td>\n",
              "      <td>False</td>\n",
              "    </tr>\n",
              "    <tr>\n",
              "      <th>2</th>\n",
              "      <td>3</td>\n",
              "      <td>Venusaur</td>\n",
              "      <td>Grass</td>\n",
              "      <td>Poison</td>\n",
              "      <td>525</td>\n",
              "      <td>80</td>\n",
              "      <td>82</td>\n",
              "      <td>83</td>\n",
              "      <td>100</td>\n",
              "      <td>100</td>\n",
              "      <td>80</td>\n",
              "      <td>1</td>\n",
              "      <td>False</td>\n",
              "    </tr>\n",
              "    <tr>\n",
              "      <th>3</th>\n",
              "      <td>3</td>\n",
              "      <td>VenusaurMega Venusaur</td>\n",
              "      <td>Grass</td>\n",
              "      <td>Poison</td>\n",
              "      <td>625</td>\n",
              "      <td>80</td>\n",
              "      <td>100</td>\n",
              "      <td>123</td>\n",
              "      <td>122</td>\n",
              "      <td>120</td>\n",
              "      <td>80</td>\n",
              "      <td>1</td>\n",
              "      <td>False</td>\n",
              "    </tr>\n",
              "    <tr>\n",
              "      <th>4</th>\n",
              "      <td>4</td>\n",
              "      <td>Charmander</td>\n",
              "      <td>Fire</td>\n",
              "      <td>NaN</td>\n",
              "      <td>309</td>\n",
              "      <td>39</td>\n",
              "      <td>52</td>\n",
              "      <td>43</td>\n",
              "      <td>60</td>\n",
              "      <td>50</td>\n",
              "      <td>65</td>\n",
              "      <td>1</td>\n",
              "      <td>False</td>\n",
              "    </tr>\n",
              "  </tbody>\n",
              "</table>\n",
              "</div>"
            ],
            "text/plain": [
              "   #                   Name Type 1  ... Speed  Generation  Legendary\n",
              "0  1              Bulbasaur  Grass  ...    45           1      False\n",
              "1  2                Ivysaur  Grass  ...    60           1      False\n",
              "2  3               Venusaur  Grass  ...    80           1      False\n",
              "3  3  VenusaurMega Venusaur  Grass  ...    80           1      False\n",
              "4  4             Charmander   Fire  ...    65           1      False\n",
              "\n",
              "[5 rows x 13 columns]"
            ]
          },
          "metadata": {},
          "execution_count": 85
        }
      ]
    },
    {
      "cell_type": "code",
      "metadata": {
        "colab": {
          "base_uri": "https://localhost:8080/",
          "height": 0
        },
        "id": "IGZ-nMe9ktQP",
        "outputId": "0b2a8c91-ff17-499a-b248-cdf17b0411b8"
      },
      "source": [
        "df.describe()"
      ],
      "execution_count": 86,
      "outputs": [
        {
          "output_type": "execute_result",
          "data": {
            "text/html": [
              "<div>\n",
              "<style scoped>\n",
              "    .dataframe tbody tr th:only-of-type {\n",
              "        vertical-align: middle;\n",
              "    }\n",
              "\n",
              "    .dataframe tbody tr th {\n",
              "        vertical-align: top;\n",
              "    }\n",
              "\n",
              "    .dataframe thead th {\n",
              "        text-align: right;\n",
              "    }\n",
              "</style>\n",
              "<table border=\"1\" class=\"dataframe\">\n",
              "  <thead>\n",
              "    <tr style=\"text-align: right;\">\n",
              "      <th></th>\n",
              "      <th>#</th>\n",
              "      <th>Total</th>\n",
              "      <th>HP</th>\n",
              "      <th>Attack</th>\n",
              "      <th>Defense</th>\n",
              "      <th>Sp. Atk</th>\n",
              "      <th>Sp. Def</th>\n",
              "      <th>Speed</th>\n",
              "      <th>Generation</th>\n",
              "    </tr>\n",
              "  </thead>\n",
              "  <tbody>\n",
              "    <tr>\n",
              "      <th>count</th>\n",
              "      <td>800.000000</td>\n",
              "      <td>800.00000</td>\n",
              "      <td>800.000000</td>\n",
              "      <td>800.000000</td>\n",
              "      <td>800.000000</td>\n",
              "      <td>800.000000</td>\n",
              "      <td>800.000000</td>\n",
              "      <td>800.000000</td>\n",
              "      <td>800.00000</td>\n",
              "    </tr>\n",
              "    <tr>\n",
              "      <th>mean</th>\n",
              "      <td>362.813750</td>\n",
              "      <td>435.10250</td>\n",
              "      <td>69.258750</td>\n",
              "      <td>79.001250</td>\n",
              "      <td>73.842500</td>\n",
              "      <td>72.820000</td>\n",
              "      <td>71.902500</td>\n",
              "      <td>68.277500</td>\n",
              "      <td>3.32375</td>\n",
              "    </tr>\n",
              "    <tr>\n",
              "      <th>std</th>\n",
              "      <td>208.343798</td>\n",
              "      <td>119.96304</td>\n",
              "      <td>25.534669</td>\n",
              "      <td>32.457366</td>\n",
              "      <td>31.183501</td>\n",
              "      <td>32.722294</td>\n",
              "      <td>27.828916</td>\n",
              "      <td>29.060474</td>\n",
              "      <td>1.66129</td>\n",
              "    </tr>\n",
              "    <tr>\n",
              "      <th>min</th>\n",
              "      <td>1.000000</td>\n",
              "      <td>180.00000</td>\n",
              "      <td>1.000000</td>\n",
              "      <td>5.000000</td>\n",
              "      <td>5.000000</td>\n",
              "      <td>10.000000</td>\n",
              "      <td>20.000000</td>\n",
              "      <td>5.000000</td>\n",
              "      <td>1.00000</td>\n",
              "    </tr>\n",
              "    <tr>\n",
              "      <th>25%</th>\n",
              "      <td>184.750000</td>\n",
              "      <td>330.00000</td>\n",
              "      <td>50.000000</td>\n",
              "      <td>55.000000</td>\n",
              "      <td>50.000000</td>\n",
              "      <td>49.750000</td>\n",
              "      <td>50.000000</td>\n",
              "      <td>45.000000</td>\n",
              "      <td>2.00000</td>\n",
              "    </tr>\n",
              "    <tr>\n",
              "      <th>50%</th>\n",
              "      <td>364.500000</td>\n",
              "      <td>450.00000</td>\n",
              "      <td>65.000000</td>\n",
              "      <td>75.000000</td>\n",
              "      <td>70.000000</td>\n",
              "      <td>65.000000</td>\n",
              "      <td>70.000000</td>\n",
              "      <td>65.000000</td>\n",
              "      <td>3.00000</td>\n",
              "    </tr>\n",
              "    <tr>\n",
              "      <th>75%</th>\n",
              "      <td>539.250000</td>\n",
              "      <td>515.00000</td>\n",
              "      <td>80.000000</td>\n",
              "      <td>100.000000</td>\n",
              "      <td>90.000000</td>\n",
              "      <td>95.000000</td>\n",
              "      <td>90.000000</td>\n",
              "      <td>90.000000</td>\n",
              "      <td>5.00000</td>\n",
              "    </tr>\n",
              "    <tr>\n",
              "      <th>max</th>\n",
              "      <td>721.000000</td>\n",
              "      <td>780.00000</td>\n",
              "      <td>255.000000</td>\n",
              "      <td>190.000000</td>\n",
              "      <td>230.000000</td>\n",
              "      <td>194.000000</td>\n",
              "      <td>230.000000</td>\n",
              "      <td>180.000000</td>\n",
              "      <td>6.00000</td>\n",
              "    </tr>\n",
              "  </tbody>\n",
              "</table>\n",
              "</div>"
            ],
            "text/plain": [
              "                #      Total          HP  ...     Sp. Def       Speed  Generation\n",
              "count  800.000000  800.00000  800.000000  ...  800.000000  800.000000   800.00000\n",
              "mean   362.813750  435.10250   69.258750  ...   71.902500   68.277500     3.32375\n",
              "std    208.343798  119.96304   25.534669  ...   27.828916   29.060474     1.66129\n",
              "min      1.000000  180.00000    1.000000  ...   20.000000    5.000000     1.00000\n",
              "25%    184.750000  330.00000   50.000000  ...   50.000000   45.000000     2.00000\n",
              "50%    364.500000  450.00000   65.000000  ...   70.000000   65.000000     3.00000\n",
              "75%    539.250000  515.00000   80.000000  ...   90.000000   90.000000     5.00000\n",
              "max    721.000000  780.00000  255.000000  ...  230.000000  180.000000     6.00000\n",
              "\n",
              "[8 rows x 9 columns]"
            ]
          },
          "metadata": {},
          "execution_count": 86
        }
      ]
    },
    {
      "cell_type": "code",
      "metadata": {
        "colab": {
          "base_uri": "https://localhost:8080/"
        },
        "id": "Nhrb5RF7kwS9",
        "outputId": "aec342a4-7e69-4776-8c82-edfe0e2a421d"
      },
      "source": [
        "df.shape"
      ],
      "execution_count": 87,
      "outputs": [
        {
          "output_type": "execute_result",
          "data": {
            "text/plain": [
              "(800, 13)"
            ]
          },
          "metadata": {},
          "execution_count": 87
        }
      ]
    },
    {
      "cell_type": "code",
      "metadata": {
        "colab": {
          "base_uri": "https://localhost:8080/"
        },
        "id": "MJe2-s-2kzB_",
        "outputId": "56ba7cda-9104-453b-d3f0-9bb9f2602269"
      },
      "source": [
        "df.info()"
      ],
      "execution_count": 88,
      "outputs": [
        {
          "output_type": "stream",
          "name": "stdout",
          "text": [
            "<class 'pandas.core.frame.DataFrame'>\n",
            "RangeIndex: 800 entries, 0 to 799\n",
            "Data columns (total 13 columns):\n",
            " #   Column      Non-Null Count  Dtype \n",
            "---  ------      --------------  ----- \n",
            " 0   #           800 non-null    int64 \n",
            " 1   Name        800 non-null    object\n",
            " 2   Type 1      800 non-null    object\n",
            " 3   Type 2      414 non-null    object\n",
            " 4   Total       800 non-null    int64 \n",
            " 5   HP          800 non-null    int64 \n",
            " 6   Attack      800 non-null    int64 \n",
            " 7   Defense     800 non-null    int64 \n",
            " 8   Sp. Atk     800 non-null    int64 \n",
            " 9   Sp. Def     800 non-null    int64 \n",
            " 10  Speed       800 non-null    int64 \n",
            " 11  Generation  800 non-null    int64 \n",
            " 12  Legendary   800 non-null    bool  \n",
            "dtypes: bool(1), int64(9), object(3)\n",
            "memory usage: 75.9+ KB\n"
          ]
        }
      ]
    },
    {
      "cell_type": "markdown",
      "metadata": {
        "id": "fnHbief0lMwd"
      },
      "source": [
        "#Data Cleaning"
      ]
    },
    {
      "cell_type": "code",
      "metadata": {
        "colab": {
          "base_uri": "https://localhost:8080/",
          "height": 0
        },
        "id": "MxGK6qLGzbNX",
        "outputId": "932b9c11-2a0a-4a5f-8b03-e7ca0e37c306"
      },
      "source": [
        "df_cp=df.rename(columns={'Name':'Nama_Pokemon','Type 1':'Jenis_Pokemon_1','Type 2':'Jenis_Pokemon_2',\n",
        "                   'Total':'Jumlah_Pokemon','HP':'Bar_HP','Attack':'Damage',\n",
        "                   'Defense':'Pertahanan','Sp. Atk':'Magic_atk','Sp. Def':'Magic_def','Speed':'Kecepatan',\n",
        "                   'Generation':'Generasi','Legendary':'Tipe_Legendary'})\n",
        "df_cp.head()"
      ],
      "execution_count": 89,
      "outputs": [
        {
          "output_type": "execute_result",
          "data": {
            "text/html": [
              "<div>\n",
              "<style scoped>\n",
              "    .dataframe tbody tr th:only-of-type {\n",
              "        vertical-align: middle;\n",
              "    }\n",
              "\n",
              "    .dataframe tbody tr th {\n",
              "        vertical-align: top;\n",
              "    }\n",
              "\n",
              "    .dataframe thead th {\n",
              "        text-align: right;\n",
              "    }\n",
              "</style>\n",
              "<table border=\"1\" class=\"dataframe\">\n",
              "  <thead>\n",
              "    <tr style=\"text-align: right;\">\n",
              "      <th></th>\n",
              "      <th>#</th>\n",
              "      <th>Nama_Pokemon</th>\n",
              "      <th>Jenis_Pokemon_1</th>\n",
              "      <th>Jenis_Pokemon_2</th>\n",
              "      <th>Jumlah_Pokemon</th>\n",
              "      <th>Bar_HP</th>\n",
              "      <th>Damage</th>\n",
              "      <th>Pertahanan</th>\n",
              "      <th>Magic_atk</th>\n",
              "      <th>Magic_def</th>\n",
              "      <th>Kecepatan</th>\n",
              "      <th>Generasi</th>\n",
              "      <th>Tipe_Legendary</th>\n",
              "    </tr>\n",
              "  </thead>\n",
              "  <tbody>\n",
              "    <tr>\n",
              "      <th>0</th>\n",
              "      <td>1</td>\n",
              "      <td>Bulbasaur</td>\n",
              "      <td>Grass</td>\n",
              "      <td>Poison</td>\n",
              "      <td>318</td>\n",
              "      <td>45</td>\n",
              "      <td>49</td>\n",
              "      <td>49</td>\n",
              "      <td>65</td>\n",
              "      <td>65</td>\n",
              "      <td>45</td>\n",
              "      <td>1</td>\n",
              "      <td>False</td>\n",
              "    </tr>\n",
              "    <tr>\n",
              "      <th>1</th>\n",
              "      <td>2</td>\n",
              "      <td>Ivysaur</td>\n",
              "      <td>Grass</td>\n",
              "      <td>Poison</td>\n",
              "      <td>405</td>\n",
              "      <td>60</td>\n",
              "      <td>62</td>\n",
              "      <td>63</td>\n",
              "      <td>80</td>\n",
              "      <td>80</td>\n",
              "      <td>60</td>\n",
              "      <td>1</td>\n",
              "      <td>False</td>\n",
              "    </tr>\n",
              "    <tr>\n",
              "      <th>2</th>\n",
              "      <td>3</td>\n",
              "      <td>Venusaur</td>\n",
              "      <td>Grass</td>\n",
              "      <td>Poison</td>\n",
              "      <td>525</td>\n",
              "      <td>80</td>\n",
              "      <td>82</td>\n",
              "      <td>83</td>\n",
              "      <td>100</td>\n",
              "      <td>100</td>\n",
              "      <td>80</td>\n",
              "      <td>1</td>\n",
              "      <td>False</td>\n",
              "    </tr>\n",
              "    <tr>\n",
              "      <th>3</th>\n",
              "      <td>3</td>\n",
              "      <td>VenusaurMega Venusaur</td>\n",
              "      <td>Grass</td>\n",
              "      <td>Poison</td>\n",
              "      <td>625</td>\n",
              "      <td>80</td>\n",
              "      <td>100</td>\n",
              "      <td>123</td>\n",
              "      <td>122</td>\n",
              "      <td>120</td>\n",
              "      <td>80</td>\n",
              "      <td>1</td>\n",
              "      <td>False</td>\n",
              "    </tr>\n",
              "    <tr>\n",
              "      <th>4</th>\n",
              "      <td>4</td>\n",
              "      <td>Charmander</td>\n",
              "      <td>Fire</td>\n",
              "      <td>NaN</td>\n",
              "      <td>309</td>\n",
              "      <td>39</td>\n",
              "      <td>52</td>\n",
              "      <td>43</td>\n",
              "      <td>60</td>\n",
              "      <td>50</td>\n",
              "      <td>65</td>\n",
              "      <td>1</td>\n",
              "      <td>False</td>\n",
              "    </tr>\n",
              "  </tbody>\n",
              "</table>\n",
              "</div>"
            ],
            "text/plain": [
              "   #           Nama_Pokemon  ... Generasi Tipe_Legendary\n",
              "0  1              Bulbasaur  ...        1          False\n",
              "1  2                Ivysaur  ...        1          False\n",
              "2  3               Venusaur  ...        1          False\n",
              "3  3  VenusaurMega Venusaur  ...        1          False\n",
              "4  4             Charmander  ...        1          False\n",
              "\n",
              "[5 rows x 13 columns]"
            ]
          },
          "metadata": {},
          "execution_count": 89
        }
      ]
    },
    {
      "cell_type": "code",
      "metadata": {
        "colab": {
          "base_uri": "https://localhost:8080/",
          "height": 0
        },
        "id": "gPb_Zrzz_dSI",
        "outputId": "8a2a1fae-f01b-4bc3-81da-711caa82ef7e"
      },
      "source": [
        "df_cp.copy()\n"
      ],
      "execution_count": 90,
      "outputs": [
        {
          "output_type": "execute_result",
          "data": {
            "text/html": [
              "<div>\n",
              "<style scoped>\n",
              "    .dataframe tbody tr th:only-of-type {\n",
              "        vertical-align: middle;\n",
              "    }\n",
              "\n",
              "    .dataframe tbody tr th {\n",
              "        vertical-align: top;\n",
              "    }\n",
              "\n",
              "    .dataframe thead th {\n",
              "        text-align: right;\n",
              "    }\n",
              "</style>\n",
              "<table border=\"1\" class=\"dataframe\">\n",
              "  <thead>\n",
              "    <tr style=\"text-align: right;\">\n",
              "      <th></th>\n",
              "      <th>#</th>\n",
              "      <th>Nama_Pokemon</th>\n",
              "      <th>Jenis_Pokemon_1</th>\n",
              "      <th>Jenis_Pokemon_2</th>\n",
              "      <th>Jumlah_Pokemon</th>\n",
              "      <th>Bar_HP</th>\n",
              "      <th>Damage</th>\n",
              "      <th>Pertahanan</th>\n",
              "      <th>Magic_atk</th>\n",
              "      <th>Magic_def</th>\n",
              "      <th>Kecepatan</th>\n",
              "      <th>Generasi</th>\n",
              "      <th>Tipe_Legendary</th>\n",
              "    </tr>\n",
              "  </thead>\n",
              "  <tbody>\n",
              "    <tr>\n",
              "      <th>0</th>\n",
              "      <td>1</td>\n",
              "      <td>Bulbasaur</td>\n",
              "      <td>Grass</td>\n",
              "      <td>Poison</td>\n",
              "      <td>318</td>\n",
              "      <td>45</td>\n",
              "      <td>49</td>\n",
              "      <td>49</td>\n",
              "      <td>65</td>\n",
              "      <td>65</td>\n",
              "      <td>45</td>\n",
              "      <td>1</td>\n",
              "      <td>False</td>\n",
              "    </tr>\n",
              "    <tr>\n",
              "      <th>1</th>\n",
              "      <td>2</td>\n",
              "      <td>Ivysaur</td>\n",
              "      <td>Grass</td>\n",
              "      <td>Poison</td>\n",
              "      <td>405</td>\n",
              "      <td>60</td>\n",
              "      <td>62</td>\n",
              "      <td>63</td>\n",
              "      <td>80</td>\n",
              "      <td>80</td>\n",
              "      <td>60</td>\n",
              "      <td>1</td>\n",
              "      <td>False</td>\n",
              "    </tr>\n",
              "    <tr>\n",
              "      <th>2</th>\n",
              "      <td>3</td>\n",
              "      <td>Venusaur</td>\n",
              "      <td>Grass</td>\n",
              "      <td>Poison</td>\n",
              "      <td>525</td>\n",
              "      <td>80</td>\n",
              "      <td>82</td>\n",
              "      <td>83</td>\n",
              "      <td>100</td>\n",
              "      <td>100</td>\n",
              "      <td>80</td>\n",
              "      <td>1</td>\n",
              "      <td>False</td>\n",
              "    </tr>\n",
              "    <tr>\n",
              "      <th>3</th>\n",
              "      <td>3</td>\n",
              "      <td>VenusaurMega Venusaur</td>\n",
              "      <td>Grass</td>\n",
              "      <td>Poison</td>\n",
              "      <td>625</td>\n",
              "      <td>80</td>\n",
              "      <td>100</td>\n",
              "      <td>123</td>\n",
              "      <td>122</td>\n",
              "      <td>120</td>\n",
              "      <td>80</td>\n",
              "      <td>1</td>\n",
              "      <td>False</td>\n",
              "    </tr>\n",
              "    <tr>\n",
              "      <th>4</th>\n",
              "      <td>4</td>\n",
              "      <td>Charmander</td>\n",
              "      <td>Fire</td>\n",
              "      <td>NaN</td>\n",
              "      <td>309</td>\n",
              "      <td>39</td>\n",
              "      <td>52</td>\n",
              "      <td>43</td>\n",
              "      <td>60</td>\n",
              "      <td>50</td>\n",
              "      <td>65</td>\n",
              "      <td>1</td>\n",
              "      <td>False</td>\n",
              "    </tr>\n",
              "    <tr>\n",
              "      <th>...</th>\n",
              "      <td>...</td>\n",
              "      <td>...</td>\n",
              "      <td>...</td>\n",
              "      <td>...</td>\n",
              "      <td>...</td>\n",
              "      <td>...</td>\n",
              "      <td>...</td>\n",
              "      <td>...</td>\n",
              "      <td>...</td>\n",
              "      <td>...</td>\n",
              "      <td>...</td>\n",
              "      <td>...</td>\n",
              "      <td>...</td>\n",
              "    </tr>\n",
              "    <tr>\n",
              "      <th>795</th>\n",
              "      <td>719</td>\n",
              "      <td>Diancie</td>\n",
              "      <td>Rock</td>\n",
              "      <td>Fairy</td>\n",
              "      <td>600</td>\n",
              "      <td>50</td>\n",
              "      <td>100</td>\n",
              "      <td>150</td>\n",
              "      <td>100</td>\n",
              "      <td>150</td>\n",
              "      <td>50</td>\n",
              "      <td>6</td>\n",
              "      <td>True</td>\n",
              "    </tr>\n",
              "    <tr>\n",
              "      <th>796</th>\n",
              "      <td>719</td>\n",
              "      <td>DiancieMega Diancie</td>\n",
              "      <td>Rock</td>\n",
              "      <td>Fairy</td>\n",
              "      <td>700</td>\n",
              "      <td>50</td>\n",
              "      <td>160</td>\n",
              "      <td>110</td>\n",
              "      <td>160</td>\n",
              "      <td>110</td>\n",
              "      <td>110</td>\n",
              "      <td>6</td>\n",
              "      <td>True</td>\n",
              "    </tr>\n",
              "    <tr>\n",
              "      <th>797</th>\n",
              "      <td>720</td>\n",
              "      <td>HoopaHoopa Confined</td>\n",
              "      <td>Psychic</td>\n",
              "      <td>Ghost</td>\n",
              "      <td>600</td>\n",
              "      <td>80</td>\n",
              "      <td>110</td>\n",
              "      <td>60</td>\n",
              "      <td>150</td>\n",
              "      <td>130</td>\n",
              "      <td>70</td>\n",
              "      <td>6</td>\n",
              "      <td>True</td>\n",
              "    </tr>\n",
              "    <tr>\n",
              "      <th>798</th>\n",
              "      <td>720</td>\n",
              "      <td>HoopaHoopa Unbound</td>\n",
              "      <td>Psychic</td>\n",
              "      <td>Dark</td>\n",
              "      <td>680</td>\n",
              "      <td>80</td>\n",
              "      <td>160</td>\n",
              "      <td>60</td>\n",
              "      <td>170</td>\n",
              "      <td>130</td>\n",
              "      <td>80</td>\n",
              "      <td>6</td>\n",
              "      <td>True</td>\n",
              "    </tr>\n",
              "    <tr>\n",
              "      <th>799</th>\n",
              "      <td>721</td>\n",
              "      <td>Volcanion</td>\n",
              "      <td>Fire</td>\n",
              "      <td>Water</td>\n",
              "      <td>600</td>\n",
              "      <td>80</td>\n",
              "      <td>110</td>\n",
              "      <td>120</td>\n",
              "      <td>130</td>\n",
              "      <td>90</td>\n",
              "      <td>70</td>\n",
              "      <td>6</td>\n",
              "      <td>True</td>\n",
              "    </tr>\n",
              "  </tbody>\n",
              "</table>\n",
              "<p>800 rows × 13 columns</p>\n",
              "</div>"
            ],
            "text/plain": [
              "       #           Nama_Pokemon  ... Generasi Tipe_Legendary\n",
              "0      1              Bulbasaur  ...        1          False\n",
              "1      2                Ivysaur  ...        1          False\n",
              "2      3               Venusaur  ...        1          False\n",
              "3      3  VenusaurMega Venusaur  ...        1          False\n",
              "4      4             Charmander  ...        1          False\n",
              "..   ...                    ...  ...      ...            ...\n",
              "795  719                Diancie  ...        6           True\n",
              "796  719    DiancieMega Diancie  ...        6           True\n",
              "797  720    HoopaHoopa Confined  ...        6           True\n",
              "798  720     HoopaHoopa Unbound  ...        6           True\n",
              "799  721              Volcanion  ...        6           True\n",
              "\n",
              "[800 rows x 13 columns]"
            ]
          },
          "metadata": {},
          "execution_count": 90
        }
      ]
    },
    {
      "cell_type": "code",
      "metadata": {
        "colab": {
          "base_uri": "https://localhost:8080/"
        },
        "id": "aa3YLif099zY",
        "outputId": "4e5ff8f0-18fb-40fd-a443-5e97c31eec62"
      },
      "source": [
        "#mengecek apakah ada data yang hilang benar atau tidak\n",
        "df_cp.isnull().values.any()"
      ],
      "execution_count": 91,
      "outputs": [
        {
          "output_type": "execute_result",
          "data": {
            "text/plain": [
              "True"
            ]
          },
          "metadata": {},
          "execution_count": 91
        }
      ]
    },
    {
      "cell_type": "code",
      "metadata": {
        "colab": {
          "base_uri": "https://localhost:8080/"
        },
        "id": "WtzmNONB7wqD",
        "outputId": "75ebe626-ea4b-4a5c-9817-f20dec041c2b"
      },
      "source": [
        "#mengecek data apa saja yang hilang\n",
        "df_cp.isna().sum()"
      ],
      "execution_count": 92,
      "outputs": [
        {
          "output_type": "execute_result",
          "data": {
            "text/plain": [
              "#                    0\n",
              "Nama_Pokemon         0\n",
              "Jenis_Pokemon_1      0\n",
              "Jenis_Pokemon_2    386\n",
              "Jumlah_Pokemon       0\n",
              "Bar_HP               0\n",
              "Damage               0\n",
              "Pertahanan           0\n",
              "Magic_atk            0\n",
              "Magic_def            0\n",
              "Kecepatan            0\n",
              "Generasi             0\n",
              "Tipe_Legendary       0\n",
              "dtype: int64"
            ]
          },
          "metadata": {},
          "execution_count": 92
        }
      ]
    },
    {
      "cell_type": "code",
      "metadata": {
        "colab": {
          "base_uri": "https://localhost:8080/",
          "height": 0
        },
        "id": "fm8ejsrzg5Q8",
        "outputId": "e6a8b952-16ac-431d-9db9-78395fa0c512"
      },
      "source": [
        "df[df['Name'].apply(lambda x: 'Mega ' in x)].head()"
      ],
      "execution_count": 93,
      "outputs": [
        {
          "output_type": "execute_result",
          "data": {
            "text/html": [
              "<div>\n",
              "<style scoped>\n",
              "    .dataframe tbody tr th:only-of-type {\n",
              "        vertical-align: middle;\n",
              "    }\n",
              "\n",
              "    .dataframe tbody tr th {\n",
              "        vertical-align: top;\n",
              "    }\n",
              "\n",
              "    .dataframe thead th {\n",
              "        text-align: right;\n",
              "    }\n",
              "</style>\n",
              "<table border=\"1\" class=\"dataframe\">\n",
              "  <thead>\n",
              "    <tr style=\"text-align: right;\">\n",
              "      <th></th>\n",
              "      <th>#</th>\n",
              "      <th>Name</th>\n",
              "      <th>Type 1</th>\n",
              "      <th>Type 2</th>\n",
              "      <th>Total</th>\n",
              "      <th>HP</th>\n",
              "      <th>Attack</th>\n",
              "      <th>Defense</th>\n",
              "      <th>Sp. Atk</th>\n",
              "      <th>Sp. Def</th>\n",
              "      <th>Speed</th>\n",
              "      <th>Generation</th>\n",
              "      <th>Legendary</th>\n",
              "    </tr>\n",
              "  </thead>\n",
              "  <tbody>\n",
              "    <tr>\n",
              "      <th>3</th>\n",
              "      <td>3</td>\n",
              "      <td>VenusaurMega Venusaur</td>\n",
              "      <td>Grass</td>\n",
              "      <td>Poison</td>\n",
              "      <td>625</td>\n",
              "      <td>80</td>\n",
              "      <td>100</td>\n",
              "      <td>123</td>\n",
              "      <td>122</td>\n",
              "      <td>120</td>\n",
              "      <td>80</td>\n",
              "      <td>1</td>\n",
              "      <td>False</td>\n",
              "    </tr>\n",
              "    <tr>\n",
              "      <th>7</th>\n",
              "      <td>6</td>\n",
              "      <td>CharizardMega Charizard X</td>\n",
              "      <td>Fire</td>\n",
              "      <td>Dragon</td>\n",
              "      <td>634</td>\n",
              "      <td>78</td>\n",
              "      <td>130</td>\n",
              "      <td>111</td>\n",
              "      <td>130</td>\n",
              "      <td>85</td>\n",
              "      <td>100</td>\n",
              "      <td>1</td>\n",
              "      <td>False</td>\n",
              "    </tr>\n",
              "    <tr>\n",
              "      <th>8</th>\n",
              "      <td>6</td>\n",
              "      <td>CharizardMega Charizard Y</td>\n",
              "      <td>Fire</td>\n",
              "      <td>Flying</td>\n",
              "      <td>634</td>\n",
              "      <td>78</td>\n",
              "      <td>104</td>\n",
              "      <td>78</td>\n",
              "      <td>159</td>\n",
              "      <td>115</td>\n",
              "      <td>100</td>\n",
              "      <td>1</td>\n",
              "      <td>False</td>\n",
              "    </tr>\n",
              "    <tr>\n",
              "      <th>12</th>\n",
              "      <td>9</td>\n",
              "      <td>BlastoiseMega Blastoise</td>\n",
              "      <td>Water</td>\n",
              "      <td>NaN</td>\n",
              "      <td>630</td>\n",
              "      <td>79</td>\n",
              "      <td>103</td>\n",
              "      <td>120</td>\n",
              "      <td>135</td>\n",
              "      <td>115</td>\n",
              "      <td>78</td>\n",
              "      <td>1</td>\n",
              "      <td>False</td>\n",
              "    </tr>\n",
              "    <tr>\n",
              "      <th>19</th>\n",
              "      <td>15</td>\n",
              "      <td>BeedrillMega Beedrill</td>\n",
              "      <td>Bug</td>\n",
              "      <td>Poison</td>\n",
              "      <td>495</td>\n",
              "      <td>65</td>\n",
              "      <td>150</td>\n",
              "      <td>40</td>\n",
              "      <td>15</td>\n",
              "      <td>80</td>\n",
              "      <td>145</td>\n",
              "      <td>1</td>\n",
              "      <td>False</td>\n",
              "    </tr>\n",
              "  </tbody>\n",
              "</table>\n",
              "</div>"
            ],
            "text/plain": [
              "     #                       Name Type 1  ... Speed  Generation  Legendary\n",
              "3    3      VenusaurMega Venusaur  Grass  ...    80           1      False\n",
              "7    6  CharizardMega Charizard X   Fire  ...   100           1      False\n",
              "8    6  CharizardMega Charizard Y   Fire  ...   100           1      False\n",
              "12   9    BlastoiseMega Blastoise  Water  ...    78           1      False\n",
              "19  15      BeedrillMega Beedrill    Bug  ...   145           1      False\n",
              "\n",
              "[5 rows x 13 columns]"
            ]
          },
          "metadata": {},
          "execution_count": 93
        }
      ]
    },
    {
      "cell_type": "code",
      "metadata": {
        "colab": {
          "base_uri": "https://localhost:8080/",
          "height": 0
        },
        "id": "f_4xuV0dg-B3",
        "outputId": "054153a2-1afb-4829-8c16-847d75e902b3"
      },
      "source": [
        "df[df['Name'].str.contains('Mega')].head()"
      ],
      "execution_count": 94,
      "outputs": [
        {
          "output_type": "execute_result",
          "data": {
            "text/html": [
              "<div>\n",
              "<style scoped>\n",
              "    .dataframe tbody tr th:only-of-type {\n",
              "        vertical-align: middle;\n",
              "    }\n",
              "\n",
              "    .dataframe tbody tr th {\n",
              "        vertical-align: top;\n",
              "    }\n",
              "\n",
              "    .dataframe thead th {\n",
              "        text-align: right;\n",
              "    }\n",
              "</style>\n",
              "<table border=\"1\" class=\"dataframe\">\n",
              "  <thead>\n",
              "    <tr style=\"text-align: right;\">\n",
              "      <th></th>\n",
              "      <th>#</th>\n",
              "      <th>Name</th>\n",
              "      <th>Type 1</th>\n",
              "      <th>Type 2</th>\n",
              "      <th>Total</th>\n",
              "      <th>HP</th>\n",
              "      <th>Attack</th>\n",
              "      <th>Defense</th>\n",
              "      <th>Sp. Atk</th>\n",
              "      <th>Sp. Def</th>\n",
              "      <th>Speed</th>\n",
              "      <th>Generation</th>\n",
              "      <th>Legendary</th>\n",
              "    </tr>\n",
              "  </thead>\n",
              "  <tbody>\n",
              "    <tr>\n",
              "      <th>3</th>\n",
              "      <td>3</td>\n",
              "      <td>VenusaurMega Venusaur</td>\n",
              "      <td>Grass</td>\n",
              "      <td>Poison</td>\n",
              "      <td>625</td>\n",
              "      <td>80</td>\n",
              "      <td>100</td>\n",
              "      <td>123</td>\n",
              "      <td>122</td>\n",
              "      <td>120</td>\n",
              "      <td>80</td>\n",
              "      <td>1</td>\n",
              "      <td>False</td>\n",
              "    </tr>\n",
              "    <tr>\n",
              "      <th>7</th>\n",
              "      <td>6</td>\n",
              "      <td>CharizardMega Charizard X</td>\n",
              "      <td>Fire</td>\n",
              "      <td>Dragon</td>\n",
              "      <td>634</td>\n",
              "      <td>78</td>\n",
              "      <td>130</td>\n",
              "      <td>111</td>\n",
              "      <td>130</td>\n",
              "      <td>85</td>\n",
              "      <td>100</td>\n",
              "      <td>1</td>\n",
              "      <td>False</td>\n",
              "    </tr>\n",
              "    <tr>\n",
              "      <th>8</th>\n",
              "      <td>6</td>\n",
              "      <td>CharizardMega Charizard Y</td>\n",
              "      <td>Fire</td>\n",
              "      <td>Flying</td>\n",
              "      <td>634</td>\n",
              "      <td>78</td>\n",
              "      <td>104</td>\n",
              "      <td>78</td>\n",
              "      <td>159</td>\n",
              "      <td>115</td>\n",
              "      <td>100</td>\n",
              "      <td>1</td>\n",
              "      <td>False</td>\n",
              "    </tr>\n",
              "    <tr>\n",
              "      <th>12</th>\n",
              "      <td>9</td>\n",
              "      <td>BlastoiseMega Blastoise</td>\n",
              "      <td>Water</td>\n",
              "      <td>NaN</td>\n",
              "      <td>630</td>\n",
              "      <td>79</td>\n",
              "      <td>103</td>\n",
              "      <td>120</td>\n",
              "      <td>135</td>\n",
              "      <td>115</td>\n",
              "      <td>78</td>\n",
              "      <td>1</td>\n",
              "      <td>False</td>\n",
              "    </tr>\n",
              "    <tr>\n",
              "      <th>19</th>\n",
              "      <td>15</td>\n",
              "      <td>BeedrillMega Beedrill</td>\n",
              "      <td>Bug</td>\n",
              "      <td>Poison</td>\n",
              "      <td>495</td>\n",
              "      <td>65</td>\n",
              "      <td>150</td>\n",
              "      <td>40</td>\n",
              "      <td>15</td>\n",
              "      <td>80</td>\n",
              "      <td>145</td>\n",
              "      <td>1</td>\n",
              "      <td>False</td>\n",
              "    </tr>\n",
              "  </tbody>\n",
              "</table>\n",
              "</div>"
            ],
            "text/plain": [
              "     #                       Name Type 1  ... Speed  Generation  Legendary\n",
              "3    3      VenusaurMega Venusaur  Grass  ...    80           1      False\n",
              "7    6  CharizardMega Charizard X   Fire  ...   100           1      False\n",
              "8    6  CharizardMega Charizard Y   Fire  ...   100           1      False\n",
              "12   9    BlastoiseMega Blastoise  Water  ...    78           1      False\n",
              "19  15      BeedrillMega Beedrill    Bug  ...   145           1      False\n",
              "\n",
              "[5 rows x 13 columns]"
            ]
          },
          "metadata": {},
          "execution_count": 94
        }
      ]
    },
    {
      "cell_type": "code",
      "metadata": {
        "colab": {
          "base_uri": "https://localhost:8080/"
        },
        "id": "Z7brUnCbhC2b",
        "outputId": "40166c67-53b2-40d2-c063-d095aa47b1a0"
      },
      "source": [
        "df = df[~df['Name'].str.contains('Mega')]\n",
        "df.shape"
      ],
      "execution_count": 95,
      "outputs": [
        {
          "output_type": "execute_result",
          "data": {
            "text/plain": [
              "(751, 13)"
            ]
          },
          "metadata": {},
          "execution_count": 95
        }
      ]
    },
    {
      "cell_type": "code",
      "metadata": {
        "colab": {
          "base_uri": "https://localhost:8080/",
          "height": 0
        },
        "id": "sMU51HzUQjED",
        "outputId": "4866fb72-7ef8-4e27-ce7d-9b2d3eeb3df5"
      },
      "source": [
        "dp=df_cp.dropna(axis='rows')\n",
        "dp.head()"
      ],
      "execution_count": 96,
      "outputs": [
        {
          "output_type": "execute_result",
          "data": {
            "text/html": [
              "<div>\n",
              "<style scoped>\n",
              "    .dataframe tbody tr th:only-of-type {\n",
              "        vertical-align: middle;\n",
              "    }\n",
              "\n",
              "    .dataframe tbody tr th {\n",
              "        vertical-align: top;\n",
              "    }\n",
              "\n",
              "    .dataframe thead th {\n",
              "        text-align: right;\n",
              "    }\n",
              "</style>\n",
              "<table border=\"1\" class=\"dataframe\">\n",
              "  <thead>\n",
              "    <tr style=\"text-align: right;\">\n",
              "      <th></th>\n",
              "      <th>#</th>\n",
              "      <th>Nama_Pokemon</th>\n",
              "      <th>Jenis_Pokemon_1</th>\n",
              "      <th>Jenis_Pokemon_2</th>\n",
              "      <th>Jumlah_Pokemon</th>\n",
              "      <th>Bar_HP</th>\n",
              "      <th>Damage</th>\n",
              "      <th>Pertahanan</th>\n",
              "      <th>Magic_atk</th>\n",
              "      <th>Magic_def</th>\n",
              "      <th>Kecepatan</th>\n",
              "      <th>Generasi</th>\n",
              "      <th>Tipe_Legendary</th>\n",
              "    </tr>\n",
              "  </thead>\n",
              "  <tbody>\n",
              "    <tr>\n",
              "      <th>0</th>\n",
              "      <td>1</td>\n",
              "      <td>Bulbasaur</td>\n",
              "      <td>Grass</td>\n",
              "      <td>Poison</td>\n",
              "      <td>318</td>\n",
              "      <td>45</td>\n",
              "      <td>49</td>\n",
              "      <td>49</td>\n",
              "      <td>65</td>\n",
              "      <td>65</td>\n",
              "      <td>45</td>\n",
              "      <td>1</td>\n",
              "      <td>False</td>\n",
              "    </tr>\n",
              "    <tr>\n",
              "      <th>1</th>\n",
              "      <td>2</td>\n",
              "      <td>Ivysaur</td>\n",
              "      <td>Grass</td>\n",
              "      <td>Poison</td>\n",
              "      <td>405</td>\n",
              "      <td>60</td>\n",
              "      <td>62</td>\n",
              "      <td>63</td>\n",
              "      <td>80</td>\n",
              "      <td>80</td>\n",
              "      <td>60</td>\n",
              "      <td>1</td>\n",
              "      <td>False</td>\n",
              "    </tr>\n",
              "    <tr>\n",
              "      <th>2</th>\n",
              "      <td>3</td>\n",
              "      <td>Venusaur</td>\n",
              "      <td>Grass</td>\n",
              "      <td>Poison</td>\n",
              "      <td>525</td>\n",
              "      <td>80</td>\n",
              "      <td>82</td>\n",
              "      <td>83</td>\n",
              "      <td>100</td>\n",
              "      <td>100</td>\n",
              "      <td>80</td>\n",
              "      <td>1</td>\n",
              "      <td>False</td>\n",
              "    </tr>\n",
              "    <tr>\n",
              "      <th>3</th>\n",
              "      <td>3</td>\n",
              "      <td>VenusaurMega Venusaur</td>\n",
              "      <td>Grass</td>\n",
              "      <td>Poison</td>\n",
              "      <td>625</td>\n",
              "      <td>80</td>\n",
              "      <td>100</td>\n",
              "      <td>123</td>\n",
              "      <td>122</td>\n",
              "      <td>120</td>\n",
              "      <td>80</td>\n",
              "      <td>1</td>\n",
              "      <td>False</td>\n",
              "    </tr>\n",
              "    <tr>\n",
              "      <th>6</th>\n",
              "      <td>6</td>\n",
              "      <td>Charizard</td>\n",
              "      <td>Fire</td>\n",
              "      <td>Flying</td>\n",
              "      <td>534</td>\n",
              "      <td>78</td>\n",
              "      <td>84</td>\n",
              "      <td>78</td>\n",
              "      <td>109</td>\n",
              "      <td>85</td>\n",
              "      <td>100</td>\n",
              "      <td>1</td>\n",
              "      <td>False</td>\n",
              "    </tr>\n",
              "  </tbody>\n",
              "</table>\n",
              "</div>"
            ],
            "text/plain": [
              "   #           Nama_Pokemon  ... Generasi Tipe_Legendary\n",
              "0  1              Bulbasaur  ...        1          False\n",
              "1  2                Ivysaur  ...        1          False\n",
              "2  3               Venusaur  ...        1          False\n",
              "3  3  VenusaurMega Venusaur  ...        1          False\n",
              "6  6              Charizard  ...        1          False\n",
              "\n",
              "[5 rows x 13 columns]"
            ]
          },
          "metadata": {},
          "execution_count": 96
        }
      ]
    },
    {
      "cell_type": "code",
      "metadata": {
        "colab": {
          "base_uri": "https://localhost:8080/"
        },
        "id": "HD0UDQalRbK9",
        "outputId": "dfe49dee-3eb7-4e7e-c9e1-27744100b5bf"
      },
      "source": [
        "dp.isna().mean()"
      ],
      "execution_count": 97,
      "outputs": [
        {
          "output_type": "execute_result",
          "data": {
            "text/plain": [
              "#                  0.0\n",
              "Nama_Pokemon       0.0\n",
              "Jenis_Pokemon_1    0.0\n",
              "Jenis_Pokemon_2    0.0\n",
              "Jumlah_Pokemon     0.0\n",
              "Bar_HP             0.0\n",
              "Damage             0.0\n",
              "Pertahanan         0.0\n",
              "Magic_atk          0.0\n",
              "Magic_def          0.0\n",
              "Kecepatan          0.0\n",
              "Generasi           0.0\n",
              "Tipe_Legendary     0.0\n",
              "dtype: float64"
            ]
          },
          "metadata": {},
          "execution_count": 97
        }
      ]
    },
    {
      "cell_type": "code",
      "metadata": {
        "colab": {
          "base_uri": "https://localhost:8080/",
          "height": 0
        },
        "id": "cfWSFyYon1Qw",
        "outputId": "52a6cf20-2dc9-47bd-ecc3-fb186508fd62"
      },
      "source": [
        "dp.describe()"
      ],
      "execution_count": 98,
      "outputs": [
        {
          "output_type": "execute_result",
          "data": {
            "text/html": [
              "<div>\n",
              "<style scoped>\n",
              "    .dataframe tbody tr th:only-of-type {\n",
              "        vertical-align: middle;\n",
              "    }\n",
              "\n",
              "    .dataframe tbody tr th {\n",
              "        vertical-align: top;\n",
              "    }\n",
              "\n",
              "    .dataframe thead th {\n",
              "        text-align: right;\n",
              "    }\n",
              "</style>\n",
              "<table border=\"1\" class=\"dataframe\">\n",
              "  <thead>\n",
              "    <tr style=\"text-align: right;\">\n",
              "      <th></th>\n",
              "      <th>#</th>\n",
              "      <th>Jumlah_Pokemon</th>\n",
              "      <th>Bar_HP</th>\n",
              "      <th>Damage</th>\n",
              "      <th>Pertahanan</th>\n",
              "      <th>Magic_atk</th>\n",
              "      <th>Magic_def</th>\n",
              "      <th>Kecepatan</th>\n",
              "      <th>Generasi</th>\n",
              "    </tr>\n",
              "  </thead>\n",
              "  <tbody>\n",
              "    <tr>\n",
              "      <th>count</th>\n",
              "      <td>414.000000</td>\n",
              "      <td>414.000000</td>\n",
              "      <td>414.000000</td>\n",
              "      <td>414.000000</td>\n",
              "      <td>414.000000</td>\n",
              "      <td>414.000000</td>\n",
              "      <td>414.000000</td>\n",
              "      <td>414.000000</td>\n",
              "      <td>414.000000</td>\n",
              "    </tr>\n",
              "    <tr>\n",
              "      <th>mean</th>\n",
              "      <td>376.565217</td>\n",
              "      <td>456.628019</td>\n",
              "      <td>70.649758</td>\n",
              "      <td>83.173913</td>\n",
              "      <td>79.676329</td>\n",
              "      <td>77.048309</td>\n",
              "      <td>75.565217</td>\n",
              "      <td>70.514493</td>\n",
              "      <td>3.410628</td>\n",
              "    </tr>\n",
              "    <tr>\n",
              "      <th>std</th>\n",
              "      <td>212.840297</td>\n",
              "      <td>120.849502</td>\n",
              "      <td>22.896557</td>\n",
              "      <td>33.698473</td>\n",
              "      <td>32.593788</td>\n",
              "      <td>33.805061</td>\n",
              "      <td>27.949961</td>\n",
              "      <td>28.521408</td>\n",
              "      <td>1.663010</td>\n",
              "    </tr>\n",
              "    <tr>\n",
              "      <th>min</th>\n",
              "      <td>1.000000</td>\n",
              "      <td>190.000000</td>\n",
              "      <td>1.000000</td>\n",
              "      <td>10.000000</td>\n",
              "      <td>15.000000</td>\n",
              "      <td>10.000000</td>\n",
              "      <td>20.000000</td>\n",
              "      <td>5.000000</td>\n",
              "      <td>1.000000</td>\n",
              "    </tr>\n",
              "    <tr>\n",
              "      <th>25%</th>\n",
              "      <td>205.500000</td>\n",
              "      <td>355.000000</td>\n",
              "      <td>55.000000</td>\n",
              "      <td>59.250000</td>\n",
              "      <td>55.000000</td>\n",
              "      <td>50.000000</td>\n",
              "      <td>55.000000</td>\n",
              "      <td>50.000000</td>\n",
              "      <td>2.000000</td>\n",
              "    </tr>\n",
              "    <tr>\n",
              "      <th>50%</th>\n",
              "      <td>378.000000</td>\n",
              "      <td>475.000000</td>\n",
              "      <td>70.000000</td>\n",
              "      <td>80.000000</td>\n",
              "      <td>75.500000</td>\n",
              "      <td>70.000000</td>\n",
              "      <td>75.000000</td>\n",
              "      <td>70.000000</td>\n",
              "      <td>3.000000</td>\n",
              "    </tr>\n",
              "    <tr>\n",
              "      <th>75%</th>\n",
              "      <td>560.750000</td>\n",
              "      <td>529.500000</td>\n",
              "      <td>85.000000</td>\n",
              "      <td>103.000000</td>\n",
              "      <td>100.000000</td>\n",
              "      <td>100.000000</td>\n",
              "      <td>94.750000</td>\n",
              "      <td>91.000000</td>\n",
              "      <td>5.000000</td>\n",
              "    </tr>\n",
              "    <tr>\n",
              "      <th>max</th>\n",
              "      <td>721.000000</td>\n",
              "      <td>780.000000</td>\n",
              "      <td>150.000000</td>\n",
              "      <td>190.000000</td>\n",
              "      <td>230.000000</td>\n",
              "      <td>180.000000</td>\n",
              "      <td>230.000000</td>\n",
              "      <td>160.000000</td>\n",
              "      <td>6.000000</td>\n",
              "    </tr>\n",
              "  </tbody>\n",
              "</table>\n",
              "</div>"
            ],
            "text/plain": [
              "                #  Jumlah_Pokemon  ...   Kecepatan    Generasi\n",
              "count  414.000000      414.000000  ...  414.000000  414.000000\n",
              "mean   376.565217      456.628019  ...   70.514493    3.410628\n",
              "std    212.840297      120.849502  ...   28.521408    1.663010\n",
              "min      1.000000      190.000000  ...    5.000000    1.000000\n",
              "25%    205.500000      355.000000  ...   50.000000    2.000000\n",
              "50%    378.000000      475.000000  ...   70.000000    3.000000\n",
              "75%    560.750000      529.500000  ...   91.000000    5.000000\n",
              "max    721.000000      780.000000  ...  160.000000    6.000000\n",
              "\n",
              "[8 rows x 9 columns]"
            ]
          },
          "metadata": {},
          "execution_count": 98
        }
      ]
    },
    {
      "cell_type": "markdown",
      "metadata": {
        "id": "rbvM5Dd8vVYv"
      },
      "source": [
        "#Explorasi data"
      ]
    },
    {
      "cell_type": "code",
      "metadata": {
        "colab": {
          "base_uri": "https://localhost:8080/",
          "height": 112
        },
        "id": "XREC6sWjnnMC",
        "outputId": "6ad3bdae-b86f-4640-cf42-8c2f5365ddac"
      },
      "source": [
        "#pokemon terkuat\n",
        "dp[dp['Jumlah_Pokemon'] == dp['Jumlah_Pokemon'].max()]"
      ],
      "execution_count": 99,
      "outputs": [
        {
          "output_type": "execute_result",
          "data": {
            "text/html": [
              "<div>\n",
              "<style scoped>\n",
              "    .dataframe tbody tr th:only-of-type {\n",
              "        vertical-align: middle;\n",
              "    }\n",
              "\n",
              "    .dataframe tbody tr th {\n",
              "        vertical-align: top;\n",
              "    }\n",
              "\n",
              "    .dataframe thead th {\n",
              "        text-align: right;\n",
              "    }\n",
              "</style>\n",
              "<table border=\"1\" class=\"dataframe\">\n",
              "  <thead>\n",
              "    <tr style=\"text-align: right;\">\n",
              "      <th></th>\n",
              "      <th>#</th>\n",
              "      <th>Nama_Pokemon</th>\n",
              "      <th>Jenis_Pokemon_1</th>\n",
              "      <th>Jenis_Pokemon_2</th>\n",
              "      <th>Jumlah_Pokemon</th>\n",
              "      <th>Bar_HP</th>\n",
              "      <th>Damage</th>\n",
              "      <th>Pertahanan</th>\n",
              "      <th>Magic_atk</th>\n",
              "      <th>Magic_def</th>\n",
              "      <th>Kecepatan</th>\n",
              "      <th>Generasi</th>\n",
              "      <th>Tipe_Legendary</th>\n",
              "    </tr>\n",
              "  </thead>\n",
              "  <tbody>\n",
              "    <tr>\n",
              "      <th>163</th>\n",
              "      <td>150</td>\n",
              "      <td>MewtwoMega Mewtwo X</td>\n",
              "      <td>Psychic</td>\n",
              "      <td>Fighting</td>\n",
              "      <td>780</td>\n",
              "      <td>106</td>\n",
              "      <td>190</td>\n",
              "      <td>100</td>\n",
              "      <td>154</td>\n",
              "      <td>100</td>\n",
              "      <td>130</td>\n",
              "      <td>1</td>\n",
              "      <td>True</td>\n",
              "    </tr>\n",
              "    <tr>\n",
              "      <th>426</th>\n",
              "      <td>384</td>\n",
              "      <td>RayquazaMega Rayquaza</td>\n",
              "      <td>Dragon</td>\n",
              "      <td>Flying</td>\n",
              "      <td>780</td>\n",
              "      <td>105</td>\n",
              "      <td>180</td>\n",
              "      <td>100</td>\n",
              "      <td>180</td>\n",
              "      <td>100</td>\n",
              "      <td>115</td>\n",
              "      <td>3</td>\n",
              "      <td>True</td>\n",
              "    </tr>\n",
              "  </tbody>\n",
              "</table>\n",
              "</div>"
            ],
            "text/plain": [
              "       #           Nama_Pokemon  ... Generasi Tipe_Legendary\n",
              "163  150    MewtwoMega Mewtwo X  ...        1           True\n",
              "426  384  RayquazaMega Rayquaza  ...        3           True\n",
              "\n",
              "[2 rows x 13 columns]"
            ]
          },
          "metadata": {},
          "execution_count": 99
        }
      ]
    },
    {
      "cell_type": "code",
      "metadata": {
        "colab": {
          "base_uri": "https://localhost:8080/",
          "height": 81
        },
        "id": "-6smgHpxoYgI",
        "outputId": "7a0d2467-c42c-471b-b207-898a878924a2"
      },
      "source": [
        "#pokemon terlemah\n",
        "dp[dp['Jumlah_Pokemon'] == dp['Jumlah_Pokemon'].min()]"
      ],
      "execution_count": 100,
      "outputs": [
        {
          "output_type": "execute_result",
          "data": {
            "text/html": [
              "<div>\n",
              "<style scoped>\n",
              "    .dataframe tbody tr th:only-of-type {\n",
              "        vertical-align: middle;\n",
              "    }\n",
              "\n",
              "    .dataframe tbody tr th {\n",
              "        vertical-align: top;\n",
              "    }\n",
              "\n",
              "    .dataframe thead th {\n",
              "        text-align: right;\n",
              "    }\n",
              "</style>\n",
              "<table border=\"1\" class=\"dataframe\">\n",
              "  <thead>\n",
              "    <tr style=\"text-align: right;\">\n",
              "      <th></th>\n",
              "      <th>#</th>\n",
              "      <th>Nama_Pokemon</th>\n",
              "      <th>Jenis_Pokemon_1</th>\n",
              "      <th>Jenis_Pokemon_2</th>\n",
              "      <th>Jumlah_Pokemon</th>\n",
              "      <th>Bar_HP</th>\n",
              "      <th>Damage</th>\n",
              "      <th>Pertahanan</th>\n",
              "      <th>Magic_atk</th>\n",
              "      <th>Magic_def</th>\n",
              "      <th>Kecepatan</th>\n",
              "      <th>Generasi</th>\n",
              "      <th>Tipe_Legendary</th>\n",
              "    </tr>\n",
              "  </thead>\n",
              "  <tbody>\n",
              "    <tr>\n",
              "      <th>322</th>\n",
              "      <td>298</td>\n",
              "      <td>Azurill</td>\n",
              "      <td>Normal</td>\n",
              "      <td>Fairy</td>\n",
              "      <td>190</td>\n",
              "      <td>50</td>\n",
              "      <td>20</td>\n",
              "      <td>40</td>\n",
              "      <td>20</td>\n",
              "      <td>40</td>\n",
              "      <td>20</td>\n",
              "      <td>3</td>\n",
              "      <td>False</td>\n",
              "    </tr>\n",
              "  </tbody>\n",
              "</table>\n",
              "</div>"
            ],
            "text/plain": [
              "       # Nama_Pokemon Jenis_Pokemon_1  ... Kecepatan  Generasi  Tipe_Legendary\n",
              "322  298      Azurill          Normal  ...        20         3           False\n",
              "\n",
              "[1 rows x 13 columns]"
            ]
          },
          "metadata": {},
          "execution_count": 100
        }
      ]
    },
    {
      "cell_type": "code",
      "metadata": {
        "colab": {
          "base_uri": "https://localhost:8080/"
        },
        "id": "fMQGBxElof4p",
        "outputId": "30dbce2a-377b-4bfb-e34d-9c3560c917b1"
      },
      "source": [
        "len(dp[dp['Tipe_Legendary']])"
      ],
      "execution_count": 101,
      "outputs": [
        {
          "output_type": "execute_result",
          "data": {
            "text/plain": [
              "40"
            ]
          },
          "metadata": {},
          "execution_count": 101
        }
      ]
    },
    {
      "cell_type": "code",
      "metadata": {
        "colab": {
          "base_uri": "https://localhost:8080/"
        },
        "id": "CrcV7nFHor45",
        "outputId": "e9eb98ed-55e4-451b-d986-ac547cb04261"
      },
      "source": [
        "dp[dp['Tipe_Legendary']]['Jenis_Pokemon_1'].value_counts()"
      ],
      "execution_count": 102,
      "outputs": [
        {
          "output_type": "execute_result",
          "data": {
            "text/plain": [
              "Dragon      12\n",
              "Psychic      5\n",
              "Fire         4\n",
              "Ground       3\n",
              "Electric     3\n",
              "Steel        3\n",
              "Rock         3\n",
              "Ghost        2\n",
              "Grass        2\n",
              "Water        1\n",
              "Dark         1\n",
              "Ice          1\n",
              "Name: Jenis_Pokemon_1, dtype: int64"
            ]
          },
          "metadata": {},
          "execution_count": 102
        }
      ]
    },
    {
      "cell_type": "code",
      "metadata": {
        "colab": {
          "base_uri": "https://localhost:8080/",
          "height": 143
        },
        "id": "ufV9ohX8o3by",
        "outputId": "ceba8929-1923-4a7b-a0c0-9d4155018af4"
      },
      "source": [
        "dp.groupby('Tipe_Legendary')['Bar_HP'].agg(['mean','median','std'])"
      ],
      "execution_count": 103,
      "outputs": [
        {
          "output_type": "execute_result",
          "data": {
            "text/html": [
              "<div>\n",
              "<style scoped>\n",
              "    .dataframe tbody tr th:only-of-type {\n",
              "        vertical-align: middle;\n",
              "    }\n",
              "\n",
              "    .dataframe tbody tr th {\n",
              "        vertical-align: top;\n",
              "    }\n",
              "\n",
              "    .dataframe thead th {\n",
              "        text-align: right;\n",
              "    }\n",
              "</style>\n",
              "<table border=\"1\" class=\"dataframe\">\n",
              "  <thead>\n",
              "    <tr style=\"text-align: right;\">\n",
              "      <th></th>\n",
              "      <th>mean</th>\n",
              "      <th>median</th>\n",
              "      <th>std</th>\n",
              "    </tr>\n",
              "    <tr>\n",
              "      <th>Tipe_Legendary</th>\n",
              "      <th></th>\n",
              "      <th></th>\n",
              "      <th></th>\n",
              "    </tr>\n",
              "  </thead>\n",
              "  <tbody>\n",
              "    <tr>\n",
              "      <th>False</th>\n",
              "      <td>67.893048</td>\n",
              "      <td>65</td>\n",
              "      <td>21.360541</td>\n",
              "    </tr>\n",
              "    <tr>\n",
              "      <th>True</th>\n",
              "      <td>96.425000</td>\n",
              "      <td>91</td>\n",
              "      <td>20.822679</td>\n",
              "    </tr>\n",
              "  </tbody>\n",
              "</table>\n",
              "</div>"
            ],
            "text/plain": [
              "                     mean  median        std\n",
              "Tipe_Legendary                              \n",
              "False           67.893048      65  21.360541\n",
              "True            96.425000      91  20.822679"
            ]
          },
          "metadata": {},
          "execution_count": 103
        }
      ]
    },
    {
      "cell_type": "markdown",
      "metadata": {
        "id": "dBL5iunLlmsq"
      },
      "source": [
        "Jenis Pokemon 1 terbanyak dari Pokemon legendaris adalah dragon, psychic, dan fire. Sementara itu, secara rata-rata dan mediannya atribut HP Pokemon legendaris memang cenderung lebih tinggi. Ini mungkin karena beberapa Pokemon biasa masih merupakan bentuk awal (masih bisa berevolusi) sehingga wajar jika rata-rata HP Pokemon biasa lebih rendah dibandingkan Pokemon legendaris."
      ]
    },
    {
      "cell_type": "code",
      "metadata": {
        "id": "C325BVAQkaoG"
      },
      "source": [
        "plt.rcParams['figure.figsize'] = (12,7)"
      ],
      "execution_count": 117,
      "outputs": []
    },
    {
      "cell_type": "code",
      "metadata": {
        "colab": {
          "base_uri": "https://localhost:8080/",
          "height": 570
        },
        "id": "42GU6ehzgZ7_",
        "outputId": "4f4a7ecd-4601-40e1-fdcd-15fb14c1012a"
      },
      "source": [
        "sns.distplot(dp[dp['Tipe_Legendary'] == True]['Jumlah_Pokemon'], label='Legendary')\n",
        "sns.distplot(dp[dp['Tipe_Legendary'] == False]['Jumlah_Pokemon'], label='Common')\n",
        "plt.ylabel('Density')\n",
        "plt.legend()\n",
        "plt.show"
      ],
      "execution_count": 126,
      "outputs": [
        {
          "output_type": "stream",
          "name": "stderr",
          "text": [
            "/usr/local/lib/python3.7/dist-packages/seaborn/distributions.py:2619: FutureWarning: `distplot` is a deprecated function and will be removed in a future version. Please adapt your code to use either `displot` (a figure-level function with similar flexibility) or `histplot` (an axes-level function for histograms).\n",
            "  warnings.warn(msg, FutureWarning)\n",
            "/usr/local/lib/python3.7/dist-packages/seaborn/distributions.py:2619: FutureWarning: `distplot` is a deprecated function and will be removed in a future version. Please adapt your code to use either `displot` (a figure-level function with similar flexibility) or `histplot` (an axes-level function for histograms).\n",
            "  warnings.warn(msg, FutureWarning)\n"
          ]
        },
        {
          "output_type": "execute_result",
          "data": {
            "text/plain": [
              "<function matplotlib.pyplot.show>"
            ]
          },
          "metadata": {},
          "execution_count": 126
        },
        {
          "output_type": "display_data",
          "data": {
            "image/png": "[encoded data removed]",
            "text/plain": [
              "<Figure size 864x504 with 1 Axes>"
            ]
          },
          "metadata": {}
        }
      ]
    },
    {
      "cell_type": "markdown",
      "metadata": {
        "id": "rRFFq9LVnqxT"
      },
      "source": [
        "dari visualisasi diatas terlihat bahwa ada perbedaan yang cukup jelas antara Pokemon biasa dengan legendaris. Perbedaan tersebut mulai terlihat batasnya di sekitar nilai total 550"
      ]
    },
    {
      "cell_type": "markdown",
      "metadata": {
        "id": "Jfk1he9y1910"
      },
      "source": [
        "#kesimpulan"
      ]
    },
    {
      "cell_type": "code",
      "metadata": {
        "colab": {
          "base_uri": "https://localhost:8080/",
          "height": 394
        },
        "id": "MUOixh6CsHq_",
        "outputId": "c9c12ac1-9c33-4c55-f9c3-55ff9ed808d6"
      },
      "source": [
        "dp[(dp['Bar_HP'] > 150) | (dp['Pertahanan'] > 150) | (dp['Magic_def'] > 150)]"
      ],
      "execution_count": 137,
      "outputs": [
        {
          "output_type": "execute_result",
          "data": {
            "text/html": [
              "<div>\n",
              "<style scoped>\n",
              "    .dataframe tbody tr th:only-of-type {\n",
              "        vertical-align: middle;\n",
              "    }\n",
              "\n",
              "    .dataframe tbody tr th {\n",
              "        vertical-align: top;\n",
              "    }\n",
              "\n",
              "    .dataframe thead th {\n",
              "        text-align: right;\n",
              "    }\n",
              "</style>\n",
              "<table border=\"1\" class=\"dataframe\">\n",
              "  <thead>\n",
              "    <tr style=\"text-align: right;\">\n",
              "      <th></th>\n",
              "      <th>#</th>\n",
              "      <th>Nama_Pokemon</th>\n",
              "      <th>Jenis_Pokemon_1</th>\n",
              "      <th>Jenis_Pokemon_2</th>\n",
              "      <th>Jumlah_Pokemon</th>\n",
              "      <th>Bar_HP</th>\n",
              "      <th>Damage</th>\n",
              "      <th>Pertahanan</th>\n",
              "      <th>Magic_atk</th>\n",
              "      <th>Magic_def</th>\n",
              "      <th>Kecepatan</th>\n",
              "      <th>Generasi</th>\n",
              "      <th>Tipe_Legendary</th>\n",
              "    </tr>\n",
              "  </thead>\n",
              "  <tbody>\n",
              "    <tr>\n",
              "      <th>87</th>\n",
              "      <td>80</td>\n",
              "      <td>SlowbroMega Slowbro</td>\n",
              "      <td>Water</td>\n",
              "      <td>Psychic</td>\n",
              "      <td>590</td>\n",
              "      <td>95</td>\n",
              "      <td>75</td>\n",
              "      <td>180</td>\n",
              "      <td>130</td>\n",
              "      <td>80</td>\n",
              "      <td>30</td>\n",
              "      <td>1</td>\n",
              "      <td>False</td>\n",
              "    </tr>\n",
              "    <tr>\n",
              "      <th>98</th>\n",
              "      <td>91</td>\n",
              "      <td>Cloyster</td>\n",
              "      <td>Water</td>\n",
              "      <td>Ice</td>\n",
              "      <td>525</td>\n",
              "      <td>50</td>\n",
              "      <td>95</td>\n",
              "      <td>180</td>\n",
              "      <td>85</td>\n",
              "      <td>45</td>\n",
              "      <td>70</td>\n",
              "      <td>1</td>\n",
              "      <td>False</td>\n",
              "    </tr>\n",
              "    <tr>\n",
              "      <th>103</th>\n",
              "      <td>95</td>\n",
              "      <td>Onix</td>\n",
              "      <td>Rock</td>\n",
              "      <td>Ground</td>\n",
              "      <td>385</td>\n",
              "      <td>35</td>\n",
              "      <td>45</td>\n",
              "      <td>160</td>\n",
              "      <td>30</td>\n",
              "      <td>45</td>\n",
              "      <td>70</td>\n",
              "      <td>1</td>\n",
              "      <td>False</td>\n",
              "    </tr>\n",
              "    <tr>\n",
              "      <th>223</th>\n",
              "      <td>208</td>\n",
              "      <td>Steelix</td>\n",
              "      <td>Steel</td>\n",
              "      <td>Ground</td>\n",
              "      <td>510</td>\n",
              "      <td>75</td>\n",
              "      <td>85</td>\n",
              "      <td>200</td>\n",
              "      <td>55</td>\n",
              "      <td>65</td>\n",
              "      <td>30</td>\n",
              "      <td>2</td>\n",
              "      <td>False</td>\n",
              "    </tr>\n",
              "    <tr>\n",
              "      <th>224</th>\n",
              "      <td>208</td>\n",
              "      <td>SteelixMega Steelix</td>\n",
              "      <td>Steel</td>\n",
              "      <td>Ground</td>\n",
              "      <td>610</td>\n",
              "      <td>75</td>\n",
              "      <td>125</td>\n",
              "      <td>230</td>\n",
              "      <td>55</td>\n",
              "      <td>95</td>\n",
              "      <td>30</td>\n",
              "      <td>2</td>\n",
              "      <td>False</td>\n",
              "    </tr>\n",
              "    <tr>\n",
              "      <th>230</th>\n",
              "      <td>213</td>\n",
              "      <td>Shuckle</td>\n",
              "      <td>Bug</td>\n",
              "      <td>Rock</td>\n",
              "      <td>505</td>\n",
              "      <td>20</td>\n",
              "      <td>10</td>\n",
              "      <td>230</td>\n",
              "      <td>10</td>\n",
              "      <td>230</td>\n",
              "      <td>5</td>\n",
              "      <td>2</td>\n",
              "      <td>False</td>\n",
              "    </tr>\n",
              "    <tr>\n",
              "      <th>269</th>\n",
              "      <td>249</td>\n",
              "      <td>Lugia</td>\n",
              "      <td>Psychic</td>\n",
              "      <td>Flying</td>\n",
              "      <td>680</td>\n",
              "      <td>106</td>\n",
              "      <td>90</td>\n",
              "      <td>130</td>\n",
              "      <td>90</td>\n",
              "      <td>154</td>\n",
              "      <td>110</td>\n",
              "      <td>2</td>\n",
              "      <td>True</td>\n",
              "    </tr>\n",
              "    <tr>\n",
              "      <th>270</th>\n",
              "      <td>250</td>\n",
              "      <td>Ho-oh</td>\n",
              "      <td>Fire</td>\n",
              "      <td>Flying</td>\n",
              "      <td>680</td>\n",
              "      <td>106</td>\n",
              "      <td>130</td>\n",
              "      <td>90</td>\n",
              "      <td>110</td>\n",
              "      <td>154</td>\n",
              "      <td>90</td>\n",
              "      <td>2</td>\n",
              "      <td>True</td>\n",
              "    </tr>\n",
              "    <tr>\n",
              "      <th>332</th>\n",
              "      <td>306</td>\n",
              "      <td>Aggron</td>\n",
              "      <td>Steel</td>\n",
              "      <td>Rock</td>\n",
              "      <td>530</td>\n",
              "      <td>70</td>\n",
              "      <td>110</td>\n",
              "      <td>180</td>\n",
              "      <td>60</td>\n",
              "      <td>60</td>\n",
              "      <td>50</td>\n",
              "      <td>3</td>\n",
              "      <td>False</td>\n",
              "    </tr>\n",
              "    <tr>\n",
              "      <th>424</th>\n",
              "      <td>383</td>\n",
              "      <td>GroudonPrimal Groudon</td>\n",
              "      <td>Ground</td>\n",
              "      <td>Fire</td>\n",
              "      <td>770</td>\n",
              "      <td>100</td>\n",
              "      <td>180</td>\n",
              "      <td>160</td>\n",
              "      <td>150</td>\n",
              "      <td>90</td>\n",
              "      <td>90</td>\n",
              "      <td>3</td>\n",
              "      <td>True</td>\n",
              "    </tr>\n",
              "    <tr>\n",
              "      <th>456</th>\n",
              "      <td>411</td>\n",
              "      <td>Bastiodon</td>\n",
              "      <td>Rock</td>\n",
              "      <td>Steel</td>\n",
              "      <td>495</td>\n",
              "      <td>60</td>\n",
              "      <td>52</td>\n",
              "      <td>168</td>\n",
              "      <td>47</td>\n",
              "      <td>138</td>\n",
              "      <td>30</td>\n",
              "      <td>4</td>\n",
              "      <td>False</td>\n",
              "    </tr>\n",
              "  </tbody>\n",
              "</table>\n",
              "</div>"
            ],
            "text/plain": [
              "       #           Nama_Pokemon  ... Generasi Tipe_Legendary\n",
              "87    80    SlowbroMega Slowbro  ...        1          False\n",
              "98    91               Cloyster  ...        1          False\n",
              "103   95                   Onix  ...        1          False\n",
              "223  208                Steelix  ...        2          False\n",
              "224  208    SteelixMega Steelix  ...        2          False\n",
              "230  213                Shuckle  ...        2          False\n",
              "269  249                  Lugia  ...        2           True\n",
              "270  250                  Ho-oh  ...        2           True\n",
              "332  306                 Aggron  ...        3          False\n",
              "424  383  GroudonPrimal Groudon  ...        3           True\n",
              "456  411              Bastiodon  ...        4          False\n",
              "\n",
              "[11 rows x 13 columns]"
            ]
          },
          "metadata": {},
          "execution_count": 137
        }
      ]
    },
    {
      "cell_type": "markdown",
      "metadata": {
        "id": "zVPRK4kqsYm2"
      },
      "source": [
        "dari data diatas ternyata rata2 pokemon common/biasa masih memiliki status lebih baik dari legendary dan tidak kemungkinan bisa diatas legendary"
      ]
    },
    {
      "cell_type": "code",
      "metadata": {
        "id": "NBRJ3rh72Agj",
        "colab": {
          "base_uri": "https://localhost:8080/",
          "height": 464
        },
        "outputId": "54c1f443-8b70-44bb-b9ec-8a214488ced1"
      },
      "source": [
        "sns.countplot(y='Jenis_Pokemon_1', data=dp, palette='hls');"
      ],
      "execution_count": 130,
      "outputs": [
        {
          "output_type": "display_data",
          "data": {
            "image/png": "[encoded data removed]",
            "text/plain": [
              "<Figure size 864x504 with 1 Axes>"
            ]
          },
          "metadata": {}
        }
      ]
    },
    {
      "cell_type": "markdown",
      "metadata": {
        "id": "FUTWCtZ_tFDo"
      },
      "source": [
        "dari data diatas jenis pokemon 1 yang mendominasi adalah tipe water dan fire"
      ]
    },
    {
      "cell_type": "code",
      "metadata": {
        "colab": {
          "base_uri": "https://localhost:8080/",
          "height": 464
        },
        "id": "wrTHpR97rmJC",
        "outputId": "157801c8-1b6c-4f95-a6be-7a2cc92fb8c2"
      },
      "source": [
        "sns.countplot(y='Jenis_Pokemon_2', data=dp, palette='hls');"
      ],
      "execution_count": 131,
      "outputs": [
        {
          "output_type": "display_data",
          "data": {
            "image/png": "[encoded data removed]",
            "text/plain": [
              "<Figure size 864x504 with 1 Axes>"
            ]
          },
          "metadata": {}
        }
      ]
    },
    {
      "cell_type": "markdown",
      "metadata": {
        "id": "lECvjfsktO0O"
      },
      "source": [
        "sedangkan untuk jenis pokemon ke 2 yaitu tipe flying"
      ]
    }
  ]
}